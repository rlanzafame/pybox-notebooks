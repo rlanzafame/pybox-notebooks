{
 "cells": [
  {
   "attachments": {},
   "cell_type": "markdown",
   "id": "678a2cd1",
   "metadata": {},
   "source": [
    "# LogNormal Distribution Parameters\n",
    "    \n",
    "*Note to Robert: modified from* `uncertainty-1/continuous_distributions_lognormal-R.ipynb`  \n",
    "*Original included* `Wind_Speed_1974_1975.csv`\n",
    "\n",
    "The following functions are written from scratch:\n",
    "- Probability density, PDF: $f(x)$  \n",
    "    - The PDF of the lognormal distribution is given by: \n",
    "    $f(x)$ = $\\frac{1}{\\sigma_y \\cdot x \\cdot \\sqrt{2 \\pi}} exp[\\frac{-(\\ln{x} - \\mu_y)^{2}}{2 \\sigma_y^2}]$\n",
    "- Cumulative distribution function, CDF: $F(x)$  \n",
    "    - The CDF of the lognormal distribution is given by: \n",
    "    $F(x)$ = $\\frac{1}{\\sqrt{2 \\pi}} \\int_{-\\infty}^{x} exp[\\frac{-(\\ln{x} - \\mu_y)^{2}}{2 \\sigma_y^2}]$\n",
    "    - The integration can be done using the quad function of scipy.optimize\n",
    "        - To use this function you first define a function to be integrated and pass this to the quad function, together with the lower and upper boundaries\n",
    "- Inverse cumulative distribution function , which is the complement of the CDF: $1-F(x)$  \n",
    "    - The inverse CDF is given by $1-F(x)$, with $F(x)$ the CDF, defined as above \n",
    "\n",
    "All functions take as input $\\sigma_y$ and $\\mu_y$, so these are first computed from $\\sigma_x$ and $\\mu_x$, which are the standard deviation and mean of the data.\n",
    "$\\sigma_y$ and $\\mu_y$ and $\\sigma_x$ and $\\mu_x$ are related via:\n",
    "- $\\sigma_y$ = $\\sqrt{\\ln{1 + \\frac{\\sigma_x}{\\mu_x}^2}}$\n",
    "- $\\mu_y$ = $\\ln{\\mu_x} - \\frac{\\sigma_y^2}{2}$"
   ]
  },
  {
   "cell_type": "code",
   "execution_count": 10,
   "id": "9205c818",
   "metadata": {},
   "outputs": [],
   "source": [
    "import numpy as np \n",
    "from scipy.stats import norm, lognorm"
   ]
  },
  {
   "attachments": {},
   "cell_type": "markdown",
   "id": "6603163f",
   "metadata": {},
   "source": []
  },
  {
   "attachments": {},
   "cell_type": "markdown",
   "id": "55a55320",
   "metadata": {},
   "source": [
    "Notes:\n",
    "- can define with alternate parameters\n",
    "- no documentation in function?\n",
    "- \n",
    "\n",
    "mean and std of data: 5.355615525953148 2.871661857479071\n",
    "calculated values: 1.551791902375222 0.5027001871384174"
   ]
  },
  {
   "cell_type": "code",
   "execution_count": 27,
   "metadata": {},
   "outputs": [
    {
     "data": {
      "text/plain": [
       "1.551791902375222"
      ]
     },
     "execution_count": 27,
     "metadata": {},
     "output_type": "execute_result"
    }
   ],
   "source": [
    "calc_values[0]"
   ]
  },
  {
   "cell_type": "code",
   "execution_count": 29,
   "id": "126509f2",
   "metadata": {},
   "outputs": [],
   "source": [
    "# Finding the moments and parameters of the dataset\n",
    "mu_x = 5.356\n",
    "sigma_x = 2.872\n",
    "\n",
    "def lognorm_parameters(mu_x, sigma_x):\n",
    "    sigma_y = np.sqrt(np.log(1 + (sigma_x/mu_x)**2))\n",
    "    mu_y = np.log(mu_x) - 0.5*sigma_y**2\n",
    "    return mu_y, sigma_y\n",
    "\n",
    "calc_values = lognorm_parameters(5.355615525953148, 2.871661857479071)\n",
    "test_values = (1.551791902375222, 0.5027001871384174)\n",
    "tolerance = 1e-9\n",
    "assert np.abs(test_values[0] - calc_values[0]) <= tolerance\n",
    "assert np.abs(test_values[1] - calc_values[1]) <= tolerance\n",
    "assert calc_values[1] > 0\n",
    "\n",
    "# Defining functions for PFD, CDF and inverse CDF\n",
    "\n",
    "def PDF(x, sigma_y, mu_y):\n",
    "    '''Compute probability density function of input x'''\n",
    "    p = 1/(sigma_y*x*np.sqrt(2*np.pi))*\\\n",
    "        np.exp(-(np.log(x)- mu_y)**2/(2*sigma_y**2))\n",
    "    return p\n",
    "\n",
    "\n",
    "def CDF(x, sigma_y, mu_y):\n",
    "    '''Compute cumulative density function of input x'''\n",
    "    cdflist = []\n",
    "    f = lambda x:1/(np.sqrt(2*np.pi))*np.exp(-(x**2/2))\n",
    "    for i in range(len(x)):\n",
    "        cdf = quad(f, -np.inf, (np.log(x[i]) - mu_y)/sigma_y)\n",
    "        cdflist.append(cdf)\n",
    "    return np.array(cdflist)[:,0]\n",
    "\n",
    "\n",
    "def CDF_complement(x, sigma_y, mu_y):\n",
    "    '''Compute complement of cumulative density function of input x'''\n",
    "    cdflist = CDF(x=x, sigma_y=sigma_y, mu_y=mu_y)\n",
    "    return np.ones(len(cdflist)) - cdflist\n"
   ]
  },
  {
   "cell_type": "code",
   "execution_count": 19,
   "id": "2976c761",
   "metadata": {},
   "outputs": [
    {
     "data": {
      "text/plain": [
       "(1.5518534256947107, 0.5027206025899782)"
      ]
     },
     "execution_count": 19,
     "metadata": {},
     "output_type": "execute_result"
    }
   ],
   "source": [
    "lognorm_parameters(5.356, 2.872)"
   ]
  },
  {
   "attachments": {},
   "cell_type": "markdown",
   "id": "609ff139",
   "metadata": {},
   "source": [
    "Similar functions are also provided in the scipy.stats package. However, scipy defines it's parameters in a different way, and therefore we need to first compute the parameters for the scipy functions before we can compare our own written functions to the scipy package. There's a method called `fit_loc_scale` that we can use to match our data. We found this by looking through the [documentation page](https://docs.scipy.org/doc/scipy/reference/generated/scipy.stats.lognorm.html)."
   ]
  },
  {
   "cell_type": "code",
   "execution_count": 14,
   "id": "895552ec",
   "metadata": {},
   "outputs": [
    {
     "name": "stdout",
     "output_type": "stream",
     "text": [
      "Our moments are: mux = 5.356 and sigmax = 2.872\n",
      "Our calculated parameters are: muy = 1.552 and sigmay = 0.503\n",
      "Location, scale for scipy functions are: loc = 0.000 and scale = 4.720\n"
     ]
    }
   ],
   "source": [
    "print(f'Our moments are: mux = {mu_x:.3f} and '\n",
    "      f'sigmax = {sigma_x:.3f}')\n",
    "print(f'Our calculated parameters are: muy = {mu_y:.3f} and '\n",
    "      f'sigmay = {sigma_y:.3f}')\n",
    "\n",
    "# Compute location and scale for scipy functions from data\n",
    "[loc_new, scale_new] = lognorm.fit_loc_scale(data, sigma_y)\n",
    "print(f'Location, scale for scipy functions are: loc = {loc_new:.3f} and '\n",
    "      f'scale = {scale_new:.3f}')\n"
   ]
  },
  {
   "attachments": {},
   "cell_type": "markdown",
   "id": "581bbf9d",
   "metadata": {},
   "source": [
    "We can now compare our own written function with the existing function provided in the scipy package, to see that the results of our own PDF function match the results obtained using the scipy functions."
   ]
  },
  {
   "cell_type": "code",
   "execution_count": 5,
   "id": "b1482a9e",
   "metadata": {},
   "outputs": [
    {
     "data": {
      "image/png": "[encoded data removed]",
      "text/plain": [
       "<Figure size 640x480 with 1 Axes>"
      ]
     },
     "metadata": {},
     "output_type": "display_data"
    }
   ],
   "source": [
    "# Comparing the PDFs of our own function and scipy function\n",
    "p_func = PDF(x=data, sigma_y=sigma_y, mu_y=mu_y)\n",
    "p_scipy = lognorm.pdf(data, s=sigma_y, loc=loc_new, scale=scale_new)\n",
    "\n",
    "plt.figure()\n",
    "plt.plot(data, p_func, label='Own funcion')\n",
    "plt.plot(data, p_scipy, ':', label='Scipy function')\n",
    "plt.title('PDF of windspeed data, \\n using scipy versus own function')\n",
    "plt.xlabel('Windspeed [m/s]')\n",
    "plt.ylabel('PDF [-]')\n",
    "plt.legend()\n",
    "plt.show()"
   ]
  },
  {
   "attachments": {},
   "cell_type": "markdown",
   "id": "73c78bf8",
   "metadata": {},
   "source": [
    "## Part 2: Use your functions\n",
    "\n",
    "Using the functions written above, the following is computed.\n",
    "a. $P(x\\leq 3.0\\, \\text{m/s})=?$  \n",
    "b. $P(x\\geq 10.0\\, \\text{m/s})=?$  \n",
    "c. $P(3.0\\, \\text{m/s} \\leq x \\leq 10.0\\, \\text{m/s})=?$  \n",
    "d. What is the probability that in a given year the wind speed exceeds $15.0\\, \\text{m/s}$?  \n",
    "e. What is the wind speed such that probability of exceedance is $1\\%$ per year?\n",
    "\n",
    "For each subquestion, also the result of using the scipy package is computed, to check whether our functions are correct. The results are named as P_subquestion letter_method, in which the method is either our own function (func) or the scipy package (scipy). For subquesion e x is used instead of P because a wind speed is computed instead of a probability."
   ]
  },
  {
   "attachments": {},
   "cell_type": "markdown",
   "id": "df8b584b",
   "metadata": {},
   "source": [
    "<div class=\"alert alert-block alert-warning\">\n",
    "    <b>Explanation: inverse CDF</b>  \n",
    "    \n",
    "    \n",
    "THe CDF for the lognormal distribution (just like the normal distribution) does not have a closed form equation, so it must be solved numerically. This is done automatically in the scipy functions, but is illustrated for you below to be consistent with the instructions to not use scipy. You can refer to the documentation of the function, <a href=\"https://docs.scipy.org/doc/scipy/reference/generated/scipy.optimize.fsolve.html\">fsolve</a>, to learn more, but basically the function find the roots of CDF_solve_func.\n",
    "The value 10 is an estimated guess (which you deduce from the data) and the -0.01 is needed to obtain the function corresponding to the probability of exceedance corresponding to 1%.\n",
    "</div>"
   ]
  },
  {
   "cell_type": "code",
   "execution_count": null,
   "id": "1fa03f93",
   "metadata": {},
   "outputs": [],
   "source": [
    "# a\n",
    "P_a_func = CDF(x=[3], sigma_y=sigma_y, mu_y=mu_y)[0]\n",
    "P_a_scipy = lognorm.cdf(3, s=sigma_y, loc=loc_new, scale=scale_new)\n",
    "\n",
    "# b\n",
    "P_b_func = CDF_complement(x=[10], sigma_y=sigma_y, mu_y=mu_y)[0]\n",
    "P_b_scipy = 1 - lognorm.cdf(10, s=sigma_y, loc=loc_new, scale=scale_new)\n",
    "\n",
    "# c\n",
    "P_c_func = 1 - P_a_func - P_b_func\n",
    "P_c_scipy = 1 - P_a_scipy - P_b_scipy\n",
    "\n",
    "# d \n",
    "P_d_func = CDF_complement(x=[15], sigma_y=sigma_y, mu_y=mu_y)[0]\n",
    "P_d_scipy = 1 - lognorm.cdf(15, s=sigma_y, loc=loc_new, scale=scale_new)\n",
    "\n",
    "# e\n",
    "def inv_CDF_solve_func(x):\n",
    "    \"\"\"Solve inverse CDF numerically.\"\"\"\n",
    "    cdf_value = CDF_complement(x=[x], sigma_y=sigma_y, mu_y=mu_y)\n",
    "    return cdf_value[0] - 0.01\n",
    "x_e_func = fsolve(inv_CDF_solve_func, 10)[0]\n",
    "\n",
    "def inv_CDF_solve_scipy(x):\n",
    "    \"\"\"Solve inverse CDF scipy numerically.\"\"\"\n",
    "    cdf_value = 1 - lognorm.cdf(x, s=sigma_y, loc=loc_new, scale=scale_new)\n",
    "    return cdf_value - 0.01\n",
    "x_e_scipy = fsolve(inv_CDF_solve_scipy, 10)[0]\n",
    "\n",
    "headers = ['Question', 'Own function', 'Scipy function']\n",
    "\n",
    "question = ['P(x < 3 m/s)', 'P(x > 10 m/s)', 'P(3 < x < 10 m/s)',\n",
    "            'P(x > 15 m/s)', 'x for P(x) = 0.01']\n",
    "func = [f'{P_a_func:.3f}', f'{P_b_func:.3f}', f'{P_c_func:.3f}',\n",
    "        f'{P_d_func:.3f}', f'{x_e_func:.3f} m/s']\n",
    "scipy = [f'{P_a_scipy:.3f}', f'{P_b_scipy:.3f}', f'{P_c_scipy:.3f}',\n",
    "         f'{P_d_scipy:.3f}', f'{x_e_scipy:.3f} m/s']\n",
    "table = []\n",
    "\n",
    "for i in range(len(question)):\n",
    "  table.append([question[i], func[i], scipy[i]])\n",
    "\n",
    "print(tabulate(table, headers=headers))"
   ]
  },
  {
   "attachments": {},
   "cell_type": "markdown",
   "id": "6fef80ac",
   "metadata": {},
   "source": [
    "## Part 3: Plot your functions\n",
    "\n",
    "Here a plot of the PDF, CDF and Exceedance probability are created. Also a representation of the mean and standard deviation of the wind speed data are included in the plots. For the exceedance probability a semi-logarithmic set of axes is used, where exceedance probability is plotted with the logarithmic axis.\n",
    "For the PDF and CDF also the histogram of the data is plotted. The exceedance probability is computed using the inverse CDF function."
   ]
  },
  {
   "cell_type": "code",
   "execution_count": null,
   "id": "e5c481f8",
   "metadata": {},
   "outputs": [],
   "source": [
    "plt.figure(figsize=(7, 5))\n",
    "plt.hist(data, bins=15, density=True, edgecolor='black', label='Histogram')\n",
    "plt.plot(data, PDF(x=data, sigma_y=sigma_y, mu_y=mu_y), label='PDF')\n",
    "plt.axvline(mu_x, color='red', label='Mean')\n",
    "plt.axvline(mu_x - sigma_x,\n",
    "            ls=':', color='black', label=r'1$\\sigma$ confidence')\n",
    "plt.axvline(mu_x + sigma_x, ls=':', color='black')\n",
    "plt.title('PDF and histogram of windspeed')\n",
    "plt.xlabel('Windspeed [m/s]')\n",
    "plt.ylabel('Density [-]')\n",
    "plt.legend()\n",
    "plt.show()\n"
   ]
  },
  {
   "cell_type": "code",
   "execution_count": null,
   "id": "4e12c8fb",
   "metadata": {},
   "outputs": [],
   "source": [
    "plt.figure(figsize=(7, 5))\n",
    "plt.hist(data, \n",
    "         bins=15, density=True, edgecolor='black', cumulative=True, \n",
    "         label='Histogram')\n",
    "plt.plot(data, CDF(x=data, sigma_y=sigma_y, mu_y=mu_y), label='CDF')\n",
    "plt.axvline(mu_x, color='red', label='Mean')\n",
    "plt.axvline(mu_x - sigma_x,\n",
    "            ls=':', color='black', label=r'1$\\sigma$ confidence')\n",
    "plt.axvline(mu_x + sigma_x, ls=':', color='black')\n",
    "plt.title('CDF and cumulative histogram of windspeed')\n",
    "plt.xlabel('Windspeed [m/s]')\n",
    "plt.ylabel('Density [-]')\n",
    "plt.legend()\n",
    "plt.show()"
   ]
  },
  {
   "cell_type": "code",
   "execution_count": null,
   "id": "5e4cded9",
   "metadata": {},
   "outputs": [],
   "source": [
    "def ecdf(var):\n",
    "    x = np.sort(var)\n",
    "    n = x.size\n",
    "    f = np.arange(1, n+1)/n\n",
    "    return x, f\n",
    "\n",
    "data_sorted, empirical_cdf = ecdf(data)\n",
    "\n",
    "plt.figure(figsize=(7, 5))\n",
    "plt.plot(data, CDF_complement(x=data, sigma_y=sigma_y, mu_y=mu_y), \n",
    "         label='Exceedance probability')\n",
    "plt.plot(data_sorted, 1-empirical_cdf, \n",
    "         label='Empirical exceedance')\n",
    "plt.axvline(mu_x, color='red', label='Mean')\n",
    "plt.axvline(mu_x - sigma_x, ls=':', color='black', \n",
    "            label=r'1$\\sigma$ confidence')\n",
    "plt.axvline(mu_x + sigma_x, ls=':', color='black')\n",
    "plt.title('Exceedance plot of windspeed data')\n",
    "plt.xlabel('Windspeed [m/s]')\n",
    "plt.ylabel('Exceedance probability[-]')\n",
    "plt.yscale('log')\n",
    "plt.legend()\n",
    "plt.show()"
   ]
  },
  {
   "attachments": {},
   "cell_type": "markdown",
   "id": "12c9b711",
   "metadata": {},
   "source": [
    "## Bonus: Docstrings\n",
    "\n",
    "<div class=\"alert alert-block alert-success\">\n",
    "This section repeats the code above, but now gives an example of docstrings that are more than one line. Docstrings are introduced in the Golden Rules, but will come back again in a later workshop.\n",
    "</div>"
   ]
  },
  {
   "cell_type": "code",
   "execution_count": null,
   "id": "6457f8c6",
   "metadata": {},
   "outputs": [],
   "source": [
    "def PDF(x, sigma_y, mu_y):\n",
    "    '''Compute probability density function\n",
    "    \n",
    "    Parameters:\n",
    "        x: array_like\n",
    "            value(s) for which to compute p(x)\n",
    "        sigma_y: float\n",
    "            scale parameter of the distribution\n",
    "        mu_y: float \n",
    "            location parameter of the distribution\n",
    "    Returns:\n",
    "        p: array_like\n",
    "            probability density value(s) for input x\n",
    "    '''\n",
    "    p = 1/(sigma_y*x*np.sqrt(2*np.pi))*\\\n",
    "        np.exp(-(np.log(x)- mu_y)**2/(2*sigma_y**2))\n",
    "    return p\n",
    "\n",
    "\n",
    "def CDF(x, sigma_y, mu_y):\n",
    "    '''Compute the cumulative density with quad function\n",
    "    \n",
    "    Compute the cumulative density function, using the quad function\n",
    "    from scipy.integrate.\n",
    "    \n",
    "    Parameters:\n",
    "        x: array_like\n",
    "            value(s) for which to compute P(x)\n",
    "        sigma_y: float\n",
    "            scale parameter of the distribution\n",
    "        mu_y: float \n",
    "            location parameter of the distribution\n",
    "    Returns:\n",
    "        p: array_like\n",
    "            cumulative density value(s) for input x\n",
    "    '''\n",
    "    cdflist = []\n",
    "    f = lambda x:1/(np.sqrt(2*np.pi))*np.exp(-(x**2/2))\n",
    "    for i in range(len(x)):\n",
    "        cdf = quad(f, -np.inf, (np.log(x[i]) - mu_y)/sigma_y)\n",
    "        cdflist.append(cdf)\n",
    "    return np.array(cdflist)[:,0]\n",
    "\n",
    "\n",
    "def CDF_complement(x, sigma_y, mu_y):\n",
    "    '''Compute inverse cumulative density with quad function\n",
    "    \n",
    "    Compute the inverse cumulative density function, using the quad function\n",
    "    from scipy.integrate.\n",
    "    \n",
    "    Parameters:\n",
    "        x: array_like\n",
    "            value(s) for which to compute P(x)\n",
    "        sigma_y: float\n",
    "            scale parameter of the distribution\n",
    "        mu_y: float \n",
    "            location parameter of the distribution\n",
    "    Returns:\n",
    "        p: array_like\n",
    "            inverse cumulative density value(s) for input x\n",
    "    '''\n",
    "    cdflist = CDF(x=x, sigma_y=sigma_y, mu_y=mu_y)\n",
    "    return np.ones(len(cdflist)) - cdflist"
   ]
  },
  {
   "attachments": {},
   "cell_type": "markdown",
   "id": "3c5c2312",
   "metadata": {},
   "source": [
    "## Bonus: Plotting functions\n",
    "\n",
    "If you want to make a similar plot more often for different datasets or parts of your dataset, a plotting function could be useful. With a plotting function you can generate a new plot in just one line instead of copy-pasting your whole plotting code for every plot you want to make. "
   ]
  },
  {
   "cell_type": "code",
   "execution_count": null,
   "id": "a62a64fd",
   "metadata": {},
   "outputs": [],
   "source": [
    "def PDF_plot(data, sigma_y, mu_y, data_name, data_unit):\n",
    "    '''Plot PDF and histogram of data for lognormal distribution\n",
    "    \n",
    "    Parameters:\n",
    "        data: array_like\n",
    "            input data of which the PDF is plotted\n",
    "        sigma_y: float\n",
    "            scale parameter of the distribution\n",
    "        mu_y: float \n",
    "            location parameter of the distribution\n",
    "        data_name: string\n",
    "            descriptive name of the data used for title \n",
    "            and axis names of the plot\n",
    "        data_unit: string\n",
    "            physical unit of the input data\n",
    "    \n",
    "    The function returns a plot of the PDF and histogram of the data, along with\n",
    "    vertical lines that visualize the mean and standard deviation of the dataset\n",
    "    '''\n",
    "    plt.figure()\n",
    "    plt.hist(data, bins=15, density=True, edgecolor='black', label='Histogram')\n",
    "    plt.plot(data, PDF(x=data, sigma_y=sigma_y, mu_y=mu_y), label='PDF')\n",
    "    mu_x = np.mean(data)\n",
    "    sigma_x = np.std(data)\n",
    "    plt.axvline(mu_x, color='red', label='Mean')\n",
    "    plt.axvline(mu_x - sigma_x, ls=':', color='black', \n",
    "                label=r'1$\\sigma$ confidence')\n",
    "    plt.axvline(mu_x + sigma_x, ls=':', color='black')\n",
    "    plt.title(f'PDF and histogram of {data_name}')\n",
    "    plt.xlabel(f'{data_name} [{data_unit}]')\n",
    "    plt.ylabel('Density [-]')\n",
    "    plt.legend()\n",
    "    plt.show()\n",
    "    return\n",
    "\n",
    "def CDF_plot(data, sigma_y, mu_y, data_name, data_unit):\n",
    "    '''Plot CDF and cumulative histogram of data for lognormal distribution\n",
    "    \n",
    "    Parameters:\n",
    "        data: array_like\n",
    "            input data of which the PDF is plotted\n",
    "        sigma_y: float\n",
    "            scale parameter of the distribution\n",
    "        mu_y: float \n",
    "            location parameter of the distribution\n",
    "        data_name: string\n",
    "            descriptive name of the data used for title \n",
    "            and axis names of the plot\n",
    "        data_unit: string\n",
    "            physical unit of the input data\n",
    "    \n",
    "    The function returns a plot of the CDF and cumulative histogram of the data,\n",
    "    along with vertical lines that visualize the mean and standard deviation of \n",
    "    the dataset\n",
    "    '''\n",
    "    plt.figure()\n",
    "    plt.hist(data, bins=15, density=True, edgecolor='black', cumulative=True,\n",
    "             label='Histogram')\n",
    "    plt.plot(data, CDF(x=data, sigma_y=sigma_y, mu_y=mu_y), label='CDF')\n",
    "    mu_x = np.mean(data)\n",
    "    sigma_x = np.std(data)\n",
    "    plt.axvline(mu_x, color='red', label='Mean')\n",
    "    plt.axvline(mu_x - sigma_x, ls=':', color='black', \n",
    "                label=r'1$\\sigma$ confidence')\n",
    "    plt.axvline(mu_x + sigma_x, ls=':', color='black')\n",
    "    plt.title(f'CDF and cumulative histogram of {data_name}')\n",
    "    plt.xlabel(f'{data_name} [{data_unit}]')\n",
    "    plt.ylabel('Density [-]')\n",
    "    plt.legend()\n",
    "    plt.show()\n",
    "    return\n",
    "\n",
    "def exceedance_plot(data, sigma_y, mu_y, data_name, data_unit):\n",
    "    '''Plot exceedance and empirical distribution for lognormal.\n",
    "    \n",
    "    Parameters:\n",
    "        data: array_like\n",
    "            input data of which the PDF is plotted\n",
    "        sigma_y: float\n",
    "            scale parameter of the distribution\n",
    "        mu_y: float \n",
    "            location parameter of the distribution\n",
    "        data_name: string\n",
    "            descriptive name of the data used for title \n",
    "            and axis names of the plot\n",
    "        data_unit: string\n",
    "            physical unit of the input data\n",
    "    \n",
    "    The function returns an exceedance plot of the data in semi-log scale, along\n",
    "    with vertical lines that visualize the mean and standard deviation of the \n",
    "    dataset\n",
    "    '''\n",
    "    plt.figure()\n",
    "    plt.plot(data, CDF_complement(x=data, sigma_y=sigma_y, mu_y=mu_y), \n",
    "             label='Exceedance probability')\n",
    "    mu_x = np.mean(data)\n",
    "    sigma_x = np.std(data)\n",
    "    plt.axvline(mu_x, color='red', label='Mean')\n",
    "    plt.axvline(mu_x - sigma_x, ls=':', color='black', \n",
    "                label=r'1$\\sigma$ confidence')\n",
    "    plt.axvline(mu_x + sigma_x, ls=':', color='black')\n",
    "    plt.title(f'Exceedance plot of {data_name}')\n",
    "    plt.xlabel(f'{data_name} [{data_unit}]')\n",
    "    plt.ylabel('Density [-]')\n",
    "    plt.yscale('log')\n",
    "    plt.legend()\n",
    "    plt.show()\n",
    "    return\n"
   ]
  },
  {
   "cell_type": "code",
   "execution_count": null,
   "id": "d6bc1f31",
   "metadata": {},
   "outputs": [],
   "source": [
    "PDF_plot(data=data, sigma_y=sigma_y, mu_y=mu_y, data_name='Wind speed', \n",
    "         data_unit='m/s')"
   ]
  },
  {
   "cell_type": "code",
   "execution_count": null,
   "id": "995c8e89",
   "metadata": {},
   "outputs": [],
   "source": [
    "CDF_plot(data=data, sigma_y=sigma_y, mu_y=mu_y, data_name='Wind speed', \n",
    "         data_unit='m/s')"
   ]
  },
  {
   "cell_type": "code",
   "execution_count": null,
   "id": "8c754f2f",
   "metadata": {},
   "outputs": [],
   "source": [
    "exceedance_plot(data=data, sigma_y=sigma_y, mu_y=mu_y, data_name='Wind speed', \n",
    "                data_unit='m/s')"
   ]
  },
  {
   "cell_type": "code",
   "execution_count": null,
   "id": "1fcbc292",
   "metadata": {},
   "outputs": [],
   "source": [
    "def plot_function(data, sigma_y, mu_y, data_name, data_unit, type):\n",
    "    '''Plot PDF, CDF, exceedance with data for lognormal\n",
    "    \n",
    "    Parameters:\n",
    "        data: array_like\n",
    "            input data of which the plot is made\n",
    "        sigma_y: float\n",
    "            scale parameter of the distribution\n",
    "        mu_y: float \n",
    "            location parameter of the distribution\n",
    "        data_name: string\n",
    "            descriptive name of the data used for title \n",
    "            and axis names of the plot\n",
    "        data_unit: string\n",
    "            physical unit of the input data\n",
    "        type: string\n",
    "            'PDF' gives a plot of the PDF and histogram\n",
    "            'CDF' gives a plot of the CDF and cumulative histogram\n",
    "            'exceedance' gives an exceedance plot \n",
    "    \n",
    "    The function returns a plot of the chose type, along with vertical lines \n",
    "    that visualize the mean and standard deviation of the dataset\n",
    "    '''\n",
    "    plt.figure()\n",
    "    if type == 'PDF':\n",
    "        plt.hist(data, bins=15, density=True, edgecolor='black', \n",
    "                 label='Histogram')\n",
    "        plt.plot(data, PDF(x=data, sigma_y=sigma_y, mu_y=mu_y), label='PDF')\n",
    "        plt.title(f'PDF and histogram of {data_name}')\n",
    "        plt.xlabel(f'{data_name} [{data_unit}]')\n",
    "        plt.ylabel('Density [-]')\n",
    "    elif type == 'CDF':\n",
    "        plt.hist(data, bins=15, density=True, edgecolor='black', \n",
    "                 cumulative=True, label='Histogram')\n",
    "        plt.plot(data, CDF(x=data, sigma_y=sigma_y, mu_y=mu_y), label='CDF')\n",
    "        plt.title(f'CDF and cumulative histogram of {data_name}')\n",
    "        plt.xlabel(f'{data_name} [{data_unit}]')\n",
    "        plt.ylabel('Density [-]')\n",
    "    elif type == 'exceedance':\n",
    "        plt.plot(data, CDF_complement(x=data, sigma_y=sigma_y, mu_y=mu_y), \n",
    "             label='Exceedance probability')\n",
    "        plt.title(f'Exceedance plot of {data_name}')\n",
    "        plt.xlabel(f'{data_name} [{data_unit}]')\n",
    "        plt.ylabel('Density [-]')\n",
    "        plt.yscale('log')\n",
    "    else:\n",
    "        raise TypeError(\n",
    "            \"Type should be  'PDF', 'CDF', or 'exceedance'\"\n",
    "        )\n",
    "        \n",
    "    mu_x = np.mean(data)\n",
    "    sigma_x = np.std(data)\n",
    "    plt.axvline(mu_x, color='red', label='Mean')\n",
    "    plt.axvline(mu_x - sigma_x, ls=':', color='black', \n",
    "                label=r'1$\\sigma$ confidence')\n",
    "    plt.axvline(mu_x + sigma_x, ls=':', color='black')\n",
    "    plt.legend()\n",
    "    plt.show()\n",
    "    return"
   ]
  },
  {
   "cell_type": "code",
   "execution_count": null,
   "id": "3b4e1442",
   "metadata": {},
   "outputs": [],
   "source": [
    "plot_function(data, sigma_y, mu_y, data_name='wind_speed', data_unit='m/s', \n",
    "              type='PDF')"
   ]
  },
  {
   "cell_type": "code",
   "execution_count": null,
   "id": "6b3650a1",
   "metadata": {},
   "outputs": [],
   "source": [
    "plot_function(data, sigma_y, mu_y, data_name='wind_speed', data_unit='m/s', \n",
    "              type='CDF')"
   ]
  },
  {
   "cell_type": "code",
   "execution_count": null,
   "id": "447a5280",
   "metadata": {},
   "outputs": [],
   "source": [
    "plot_function(data, sigma_y, mu_y, data_name='wind_speed', data_unit='m/s', \n",
    "              type='exceedance')"
   ]
  },
  {
   "cell_type": "code",
   "execution_count": null,
   "id": "3d048d05",
   "metadata": {},
   "outputs": [],
   "source": [
    "# Our function only works if we choose the right type\n",
    "plot_function(data, sigma_y, mu_y, data_name='wind_speed', data_unit='m/s', \n",
    "              type='CDF_complement')"
   ]
  },
  {
   "attachments": {},
   "cell_type": "markdown",
   "id": "c925714d",
   "metadata": {},
   "source": [
    "*Yes, the previous cell is supposed to return an error.*"
   ]
  }
 ],
 "metadata": {
  "kernelspec": {
   "display_name": "Python 3 (ipykernel)",
   "language": "python",
   "name": "python3"
  },
  "language_info": {
   "codemirror_mode": {
    "name": "ipython",
    "version": 3
   },
   "file_extension": ".py",
   "mimetype": "text/x-python",
   "name": "python",
   "nbconvert_exporter": "python",
   "pygments_lexer": "ipython3",
   "version": "3.9.13"
  },
  "vscode": {
   "interpreter": {
    "hash": "b932539803d9742d977fbe9ca28a706a58466dc5c9df0c7af4e41c76d82e5a85"
   }
  }
 },
 "nbformat": 4,
 "nbformat_minor": 5
}
