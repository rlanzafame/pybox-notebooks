{
 "cells": [
  {
   "attachments": {},
   "cell_type": "markdown",
   "metadata": {},
   "source": [
    "## Step 1: Installing libraries\n",
    "\n",
    "You only need to install required libraries when you're running the notebooks locally (e.g. on your own computer).\n",
    "\n",
    "The only _required_ library is the toolkit library, which you'll use to write your formula. You can install it by running the following command in your terminal:\n",
    "\n",
    "```bash\n",
    "pip install pybox-toolkit\n",
    "```\n",
    "\n",
    "You can also install the library from within the Jupyter notebook, by adding the following line into a code cell:\n",
    "\n",
    "```\n",
    "%pip install pybox-toolkit\n",
    "```\n",
    "\n",
    "Please only install the libraries on the list below, as they are guaranteed to be present within the website environment as well. Any other python packages, apart from the standard library, may not be available when running in the website.\n",
    "\n",
    "### List of available libraries\n",
    "\n",
    " - [`sympy`](https://www.sympy.org/en/index.html)"
   ]
  },
  {
   "attachments": {},
   "cell_type": "markdown",
   "metadata": {},
   "source": [
    "## Step 2: Importing libraries\n",
    "\n",
    "Import required libraries. At the minimum, you need to import the `toolkit` library, but you can also rely on `sympy` or the python standard library.\n",
    "\n",
    "The `toolkit` library acts as the interface between your Jupyter notebook and the website. In addition, it also provides you with some convenient features, such as physical bounds checking, SI units, unit composition, etc, but these features will be discussed later as we encounter them."
   ]
  },
  {
   "cell_type": "code",
   "execution_count": 1,
   "metadata": {},
   "outputs": [],
   "source": [
    "# Required import for any formula\n",
    "import toolkit\n",
    "# Importing the Python math library (https://docs.python.org/3/library/math.html)\n",
    "# We will use the library to obtain constants, such as `math.pi` and `math.e`\n",
    "import math\n",
    "# Inside of pure formulas, we need to use the math functions provided by sympy\n",
    "# This is explained later on\n",
    "from sympy import sin, log, exp\n",
    "from scipy.stats import gumbel_r"
   ]
  },
  {
   "attachments": {},
   "cell_type": "markdown",
   "metadata": {},
   "source": [
    "## Step 3: Using units\n",
    "\n",
    "As the library is designed with engineering formulas in mind, it has support for units. You have three different options:\n",
    "\n",
    " - stick to the SI units provided by the toolkit library\n",
    " - create your own units\n",
    " - create new units by composition of existing units"
   ]
  },
  {
   "attachments": {},
   "cell_type": "markdown",
   "metadata": {},
   "source": [
    "### Using provided SI units \n",
    "\n",
    "Available units in the library are:\n",
    "\n",
    " - Meter\n",
    " - Second\n",
    " - Kilogram\n",
    " - Ampere\n",
    " - Kelvin\n",
    " - Mole\n",
    " - Candela\n",
    "\n",
    "You can import them from the toolkit library using a simple import statement"
   ]
  },
  {
   "cell_type": "code",
   "execution_count": 2,
   "metadata": {},
   "outputs": [],
   "source": [
    "from toolkit.typing import Unit\n",
    "\n",
    "class Probability(Unit):\n",
    "    \"\"\"Probability\"\"\"\n",
    "    units = \"[-]\"\n",
    "    physical_range = \"[0, 1]\"\n",
    "\n",
    "class RandomVariable(Unit):\n",
    "    \"\"\"Random variable with unknown units\"\"\"\n",
    "    units = \"[-]\"\n",
    "    physical_range = \"(-inf, inf)\"\n",
    "\n",
    "class ParameterMu(Unit):\n",
    "    \"\"\"Distribution parameter mu with unknown units\"\"\"\n",
    "    units = \"[-]\"\n",
    "    physical_range = \"(-inf, inf)\"\n",
    "\n",
    "class ParameterBeta(Unit):\n",
    "    \"\"\"Distribution parameter beta with unknown units\"\"\"\n",
    "    units = \"[-]\"\n",
    "    physical_range = \"[0, inf)\""
   ]
  },
  {
   "cell_type": "code",
   "execution_count": 10,
   "metadata": {},
   "outputs": [],
   "source": [
    "@toolkit.ImpureFormula(\n",
    "    outputs = [(\"mu\", ParameterMu(\"Parameter mu\")),\n",
    "               (\"beta\", ParameterBeta(\"Parameter beta\")),\n",
    "               (\"p\", Probability(\"Probability from the Gumbel CDF, F(x)\")),\n",
    "               (\"exceedance\", Probability(\"Probability from the Gumbel CDF, F(x)\"))],\n",
    "    keywords = [\"Probability\", \"Gumbel\", \"Distribution Parameters\", \"CDF\", \"scipy\"]\n",
    ")\n",
    "def gumbel_2_points_scipy(p_1: Probability(\"Probability at Point 1\"),\n",
    "                    x_1: RandomVariable(\"Random variable at Point 1\"),\n",
    "                    p_2: Probability(\"Probability at Point 2\"),\n",
    "                    x_2: RandomVariable(\"Random variable at Point 2\"),\n",
    "                    x: RandomVariable(\"Random variable\")):\n",
    "    \"\"\"Compute Gumbel distribution parameters from two points of the CDF.\"\"\"\n",
    "    \n",
    "    beta = -(x_2 - x_1) / log(log(p_2) / log(p_1))\n",
    "    mu = x_1 + beta * log(-log(p_1))\n",
    "    \n",
    "    gumbel = gumbel_r(loc=mu, scale=beta)\n",
    "\n",
    "    p = gumbel.cdf(x)\n",
    "    exceedance = 1 - p\n",
    "\n",
    "    return mu, beta, p, exceedance"
   ]
  },
  {
   "cell_type": "code",
   "execution_count": 11,
   "metadata": {},
   "outputs": [
    {
     "data": {
      "text/plain": [
       "[{'mu': 0.500000000000059,\n",
       "  'beta': 0.999999999999987,\n",
       "  'p': 0.9959215680475387,\n",
       "  'exceedance': 0.00407843195246127}]"
      ]
     },
     "execution_count": 11,
     "metadata": {},
     "output_type": "execute_result"
    }
   ],
   "source": [
    "gumbel_2_points_scipy(0.9889524805037951, 5,\n",
    "                0.9984976904055608, 7,\n",
    "                6)"
   ]
  },
  {
   "attachments": {},
   "cell_type": "markdown",
   "metadata": {},
   "source": [
    "# Documentation: gumbel_2_points_scipy\n",
    "\n",
    "Given two sets of points from the CDF, find the parameters of the Gumbel distribution, $\\mu$ and $\\beta$.\n",
    "\n",
    "The distribution of random variable $x$ is defined by the CDF:\n",
    "\n",
    "$$\n",
    "F-x(x) = \\exp(-\\exp(-\\frac{x-u}{\\beta}))\n",
    "$$\n",
    "\n",
    "and the points for fitting the parameters are:\n",
    "\n",
    "$$\n",
    "\\{p_i,x_i\\}:\\quad F(x_i)=p_i\n",
    "$$\n",
    "\n",
    "for $i=1,2$."
   ]
  },
  {
   "cell_type": "code",
   "execution_count": 16,
   "metadata": {},
   "outputs": [],
   "source": [
    "@toolkit.test.set_function(\n",
    "    gumbel_2_points_scipy\n",
    ")\n",
    "class test_gumbel_2_points_scipy(toolkit.test.ToolkitTests):\n",
    "    @toolkit.test.test\n",
    "    def set_1(self):\n",
    "        self.documented_test(\n",
    "            arguments = {\"p_1\": 0.9889524805037951,\n",
    "                         \"x_1\": 5.0,\n",
    "                         \"p_2\": 0.9984976904055608,\n",
    "                         \"x_2\": 7.0,\n",
    "                         \"x\": 6.0}, \n",
    "            expected = {\"mu\": 0.5,\n",
    "                        \"beta\": 1.0,\n",
    "                        \"p\": 0.995921568047539,\n",
    "                        \"exceedance\": 0.00407843195246127}\n",
    "        )\n",
    "    \n",
    "    # @toolkit.test.test\n",
    "    # def radius2(self):\n",
    "    #     calculated_radius = self.function(area = 4)[0][\"radius\"] # Outputs follow the form: [{\"radius\": ...}, {\"radius\": ...}, ...]\n",
    "    #     self.assertTrue(calculated_radius < 2) # This won't be documented, but will run"
   ]
  },
  {
   "cell_type": "code",
   "execution_count": 17,
   "metadata": {},
   "outputs": [
    {
     "name": "stdout",
     "output_type": "stream",
     "text": [
      ".\n",
      "----------------------------------------------------------------------\n",
      "Ran 1 test in 0.003s\n",
      "\n",
      "OK\n"
     ]
    },
    {
     "data": {
      "text/plain": [
       "True"
      ]
     },
     "execution_count": 17,
     "metadata": {},
     "output_type": "execute_result"
    }
   ],
   "source": [
    "gumbel_2_points_scipy.run_tests()"
   ]
  },
  {
   "cell_type": "code",
   "execution_count": null,
   "metadata": {},
   "outputs": [],
   "source": []
  }
 ],
 "metadata": {
  "kernelspec": {
   "display_name": "Python 3.10.6 ('env': venv)",
   "language": "python",
   "name": "python3"
  },
  "language_info": {
   "codemirror_mode": {
    "name": "ipython",
    "version": 3
   },
   "file_extension": ".py",
   "mimetype": "text/x-python",
   "name": "python",
   "nbconvert_exporter": "python",
   "pygments_lexer": "ipython3",
   "version": "3.9.13"
  },
  "orig_nbformat": 4,
  "vscode": {
   "interpreter": {
    "hash": "d516b3445603030f87853f63ca2c43d83dd3c621bca58921cd0a6206317ce511"
   }
  }
 },
 "nbformat": 4,
 "nbformat_minor": 2
}
