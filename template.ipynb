{
 "cells": [
  {
   "attachments": {},
   "cell_type": "markdown",
   "metadata": {},
   "source": [
    "# Welcome to the template/tutorial notebook!\n",
    "\n",
    "This notebook will guide you through how to define and use the pybox toolkit for building Jupyter notebooks compatible with the pybox website.\n",
    "\n",
    "Please note that it's not fully meant to be used as a template, instead open up a notebook along side it and copy over code snippets that you find useful and want to modify. "
   ]
  },
  {
   "attachments": {},
   "cell_type": "markdown",
   "metadata": {},
   "source": [
    "## Step 1: Installing libraries\n",
    "\n",
    "You only need to install required libraries when you're running the notebooks locally (e.g. on your own computer).\n",
    "\n",
    "The only _required_ library is the toolkit library, which you'll use to write your formula. You can install it by running the following command in your terminal:\n",
    "\n",
    "```bash\n",
    "pip install pybox-toolkit\n",
    "```\n",
    "\n",
    "You can also install the library from within the Jupyter notebook, by adding the following line into a code cell:\n",
    "\n",
    "```\n",
    "%pip install pybox-toolkit\n",
    "```\n",
    "\n",
    "Please only install the libraries on the list below, as they are guaranteed to be present within the website environment as well. Any other python packages, apart from the standard library, may not be available when running in the website.\n",
    "\n",
    "### List of available libraries\n",
    "Below are some of the main libraries you might end up using. For a more comprehensive list, visit: https://pyodide.org/en/stable/usage/packages-in-pyodide.html.\n",
    " - [`sympy`](https://www.sympy.org/en/index.html)\n",
    " - [`scipy`](https://scipy.org/)\n",
    " - [`numpy`](https://numpy.org/)"
   ]
  },
  {
   "attachments": {},
   "cell_type": "markdown",
   "metadata": {},
   "source": [
    "## Step 2: Importing libraries\n",
    "\n",
    "Import required libraries. At the minimum, you need to import the `toolkit` library, but you can also rely on `sympy` or the python standard library.\n",
    "\n",
    "The `toolkit` library acts as the interface between your Jupyter notebook and the website. In addition, it also provides you with some convenient features, such as physical bounds checking, SI units, unit composition, etc, but these features will be discussed later as we encounter them."
   ]
  },
  {
   "cell_type": "code",
   "execution_count": null,
   "metadata": {},
   "outputs": [],
   "source": [
    "# Required import for any formula\n",
    "import toolkit\n",
    "# Importing the Python math library (https://docs.python.org/3/library/math.html)\n",
    "# We will use the library to obtain constants, such as `math.pi` and `math.e`\n",
    "import math\n",
    "# Inside of pure formulas, we need to use the math functions provided by sympy\n",
    "# This is explained later on\n",
    "from sympy import sin "
   ]
  },
  {
   "attachments": {},
   "cell_type": "markdown",
   "metadata": {},
   "source": [
    "## Step 3: Using units\n",
    "\n",
    "As the library is designed with engineering formulas in mind, it has support for units. You have three different options:\n",
    "\n",
    " - stick to the SI units provided by the toolkit library\n",
    " - create your own units\n",
    " - create new units by composition of existing units"
   ]
  },
  {
   "attachments": {},
   "cell_type": "markdown",
   "metadata": {},
   "source": [
    "### Using provided SI units \n",
    "\n",
    "Available units in the library are:\n",
    "\n",
    " - Meter\n",
    " - Second\n",
    " - Kilogram\n",
    " - Ampere\n",
    " - Kelvin\n",
    " - Mole\n",
    " - Candela\n",
    "\n",
    "You can import them from the toolkit library using a simple import statement"
   ]
  },
  {
   "cell_type": "code",
   "execution_count": null,
   "metadata": {},
   "outputs": [],
   "source": [
    "# Replace \"Meter\" or \"Kilogram\" with your SI unit of choice\n",
    "from toolkit.typing.si import Meter, Kilogram"
   ]
  },
  {
   "attachments": {},
   "cell_type": "markdown",
   "metadata": {},
   "source": [
    "### Creating new units\n",
    "\n",
    "If you can't find the unit you need in the list of available SI units, you can create your own unit types.\n",
    "\n",
    "A unit at its core is a Python class with two fields:\n",
    "\n",
    " - `units`: The unit symbol (e.g. \"m\" for meters)\n",
    " - `physical_range` (optional): Physical range in mathematical notation, e.g. `(-inf, 59]`. Default value if not provided is `(-inf, inf)`.\n",
    "\n",
    "Your unit must extend from the `Unit` base class, meaning that a new unit definition with name \"Example\" and symbol \"x\" can be implemented as follows:"
   ]
  },
  {
   "cell_type": "code",
   "execution_count": null,
   "metadata": {},
   "outputs": [],
   "source": [
    "from toolkit.typing import Unit\n",
    "\n",
    "class Example(Unit):\n",
    "    \"\"\" Example unit \"\"\"\n",
    "    units = \"x\"\n",
    "    physical_range = \"(-inf, 59]\""
   ]
  },
  {
   "attachments": {},
   "cell_type": "markdown",
   "metadata": {},
   "source": [
    "### Create units using composition\n",
    "\n",
    "New units can also be created by composing unit classes using mathematical expressions. For example, let's say that we have unit \"Meter\" and unit \"Second\", and we want to create the unit for acceleration, meters over second squared.\n",
    "\n",
    "Instead of creating a new class for this, we can just use composition as follows:"
   ]
  },
  {
   "cell_type": "code",
   "execution_count": null,
   "metadata": {},
   "outputs": [],
   "source": [
    "from toolkit.typing.si import Meter, Second\n",
    "\n",
    "Acceleration = Meter / (Second ** 2)\n",
    "Acceleration.units"
   ]
  },
  {
   "attachments": {},
   "cell_type": "markdown",
   "metadata": {},
   "source": [
    "Allowed mathematical operations on unit classes are multiplication, exponentiation and division. Addition, subtraction and other operations are not allowed.\n",
    "\n",
    "The library will perform simplification on composed units, meaning that fractions will cancel themselves out if possible:"
   ]
  },
  {
   "cell_type": "code",
   "execution_count": null,
   "metadata": {},
   "outputs": [],
   "source": [
    "VelocityWithSimplification = (Meter * Meter) / (Second * Meter)\n",
    "VelocityWithSimplification.units"
   ]
  },
  {
   "attachments": {},
   "cell_type": "markdown",
   "metadata": {},
   "source": [
    "You can also compose custom units, let's look at composing using our example unit:"
   ]
  },
  {
   "cell_type": "code",
   "execution_count": null,
   "metadata": {},
   "outputs": [],
   "source": [
    "WeirdUnit = Example**2 * Second / Meter\n",
    "WeirdUnit.units"
   ]
  },
  {
   "attachments": {},
   "cell_type": "markdown",
   "metadata": {},
   "source": [
    "Physical ranges are also dealt with automatically when doing unit composition:"
   ]
  },
  {
   "cell_type": "code",
   "execution_count": null,
   "metadata": {},
   "outputs": [],
   "source": [
    "ExampleSquared = Example**2\n",
    "ExampleSquared.physical_range"
   ]
  },
  {
   "attachments": {},
   "cell_type": "markdown",
   "metadata": {},
   "source": [
    "### Choice units\n",
    "\n",
    "In addition to regular units, impure formulas also support \"choice\" units. The website user will have to select one of the several pre-defined options, which allows you to map an arbitrary string to an arbitrary value.\n",
    "\n",
    "Each choice unit consists of a list of \"entries\" and a desciption.\n",
    "\n",
    "Each entry has a value, optional name (which is used in the user-interface to represent the value) and an optional description.\n",
    "\n",
    "However, the choice units don't have to be \"instantiated\" when used (see section about unit instantiation)."
   ]
  },
  {
   "cell_type": "code",
   "execution_count": null,
   "metadata": {},
   "outputs": [],
   "source": [
    "from toolkit.typing import Choice, ChoiceEntry\n",
    "\n",
    "choices = Choice(\n",
    "    [\n",
    "        ChoiceEntry(\"green\"),\n",
    "        ChoiceEntry(\"red\", \"a name different to red\"),\n",
    "        ChoiceEntry(\"yellow\", description = \"yellow is a weird colour\"),\n",
    "        ChoiceEntry(\"pink\")\n",
    "    ],\n",
    "    \"Colour we gossip about\"\n",
    ")\n",
    "\n",
    "choices.choices[2]\n"
   ]
  },
  {
   "attachments": {},
   "cell_type": "markdown",
   "metadata": {},
   "source": [
    "If you run the cell above, you'll notice that the default name for a choice is equal to its value!"
   ]
  },
  {
   "attachments": {},
   "cell_type": "markdown",
   "metadata": {},
   "source": [
    "## Step 4: Defining a formula\n",
    "\n",
    "A formula is a Python function, annotated with the appropriate \"function decorator\". The decorator tells the toolkit information about the formula, such as the units of the formula output, keywords/categories of the formula (used for catgorization on the website), etc.\n",
    "\n",
    "There exist two different annotations, `PureFormula` and `ImpureFormula`. They differ in additional functionality they provide and constraints, but we will discuss them later.\n",
    "\n",
    "Both decorators require you to specify two fields:\n",
    "\n",
    " - `outputs`: a list of 2 element [tuples](https://www.programiz.com/python-programming/tuple) (_not a list of lists!_), where each tuple contains the name of an output variable and the (instantiated) unit of the variable (see the section about unit instantiation for more details).\n",
    " - `keywords`: a list of string labels that categorize a specific formula. The keywords are used on the website to display formulas in their corresponding categories. Note that a single formula can have more than one keyword, and the keywords are case-insensitive.\n",
    "\n",
    "The function itself can accept any number of arguments, as long as they are type-annotated (specify the unit type for the specific argument). Check out the full formula examples to see how this should look in practice.\n",
    "\n",
    "A function can return multiple values by returning a tuple instead of a single value - works for both pure and impure formulas.\n",
    "\n",
    "Finally, the function should contain a short \"docstring\". This is a string that comes immediately after the function signature (`def` statement), and starts & ends with three quote symbols. It should contain a short description of the formula.\n",
    "\n",
    "That's a lot to take in at once, so here is a simple example!"
   ]
  },
  {
   "cell_type": "code",
   "execution_count": null,
   "metadata": {},
   "outputs": [],
   "source": [
    "@toolkit.PureFormula(\n",
    "    outputs = [(\"example_output\", (Example**2)(\"This is covered later ;)\"))],\n",
    "    keywords = [\"label 1\", \"label 2\", \"3 labels, are you crazy!?\"]\n",
    ")\n",
    "def example_formula(example_input: Example(\"I Wonder why this is here\")):\n",
    "    \"\"\" This is the docstring \"\"\"\n",
    "    i = example_input ** 2\n",
    "    i += 5 # Magic constant\n",
    "    return i"
   ]
  },
  {
   "attachments": {},
   "cell_type": "markdown",
   "metadata": {},
   "source": [
    "Note that when we run a formula, it doesn't return the same output as a regular python function. Here is what it looks like:"
   ]
  },
  {
   "cell_type": "code",
   "execution_count": null,
   "metadata": {},
   "outputs": [],
   "source": [
    "example_formula(5)"
   ]
  },
  {
   "attachments": {},
   "cell_type": "markdown",
   "metadata": {},
   "source": [
    "Notice that the output is a list of dictionaries. This is because a function could return multiple sets of outputs, for example:   "
   ]
  },
  {
   "cell_type": "code",
   "execution_count": null,
   "metadata": {},
   "outputs": [],
   "source": [
    "example_formula(example_output = 30)"
   ]
  },
  {
   "attachments": {},
   "cell_type": "markdown",
   "metadata": {},
   "source": [
    "### Unit instantiation\n",
    "\n",
    "Both the output unit types and the function argument annotations require you to \"instantiate\" the unit. While it sounds scary, it simply means that you need to provide a short description for the argument which uses that particular unit.\n",
    "\n",
    "Example unit instantiations:"
   ]
  },
  {
   "cell_type": "code",
   "execution_count": null,
   "metadata": {},
   "outputs": [],
   "source": [
    "MeterInstance = Meter(\"This is the length of an imaginary thing\")\n",
    "MeterInstance.description\n",
    "\n",
    "ChoiceInstance = Choice(\n",
    "    [\n",
    "        ChoiceEntry(1, \"choice 1\", \"not a good choice\"),\n",
    "        ChoiceEntry(2, \"choice 2\", \"a better choice\")\n",
    "    ],\n",
    "    \"Description of choices as a whole\"\n",
    ")"
   ]
  },
  {
   "attachments": {},
   "cell_type": "markdown",
   "metadata": {},
   "source": [
    "There is no actual need to instantiate your units like that outside a formula, it's just for example."
   ]
  },
  {
   "attachments": {},
   "cell_type": "markdown",
   "metadata": {},
   "source": [
    "### Pure formulas\n",
    "\n",
    "\"Pure\" formulas are formulas which can be expressed as a single mathematical expression. They operate under stricter conditions than impure formulas, as they don't allow you to perform any form of flow control (no loops, `if` statements, etc.).\n",
    "\n",
    "The expression within the function should return a [sympy](https://docs.sympy.org/latest/reference/index.html#reference) expression composed of input arguments (which act as sympy variables), constants, and sympy functions (e.g. `sympy.sin` or `sympy.sqrt`).\n",
    "\n",
    "While the constraints on the pure formulas may seem arbitrary and discouraging, they provide the website users with one major benefit: pure formulas can be \"inverted\", meaning that if inputs `a` and `b` result in output `c`, the expression can be **automatically** changed to express `b` from `a` and `c`.\n",
    "\n",
    "In the example below, we create a pure formula which can be used to calculate the area of the sphere. The formula has one output, the computed area, which is expressed in meters squared. The description of the output is \"Area of sphere\".\n",
    "\n",
    "The formula also has one input, namely the radius. It is expressed in meters, and the description of the parameter is \"Radius of sphere\".\n",
    "\n",
    "The formula also contains a docstring, which is \"Compute the area of a sphere\"."
   ]
  },
  {
   "cell_type": "code",
   "execution_count": null,
   "metadata": {},
   "outputs": [],
   "source": [
    "@toolkit.PureFormula(\n",
    "    outputs = [(\"area\", (Meter**2)(\"Area of sphere\"))],\n",
    "    keywords = [\"Sphere\"]\n",
    ")\n",
    "def area_of_sphere(radius: Meter(\"Radius of sphere\")):\n",
    "    \"\"\"Compute the area of a sphere\"\"\"\n",
    "    area = math.pi * 4 * radius**2\n",
    "    return area"
   ]
  },
  {
   "cell_type": "code",
   "execution_count": null,
   "metadata": {},
   "outputs": [],
   "source": [
    "area_of_sphere(radius = 2)"
   ]
  },
  {
   "cell_type": "code",
   "execution_count": null,
   "metadata": {},
   "outputs": [],
   "source": [
    "area_of_sphere(area = 4)"
   ]
  },
  {
   "attachments": {},
   "cell_type": "markdown",
   "metadata": {},
   "source": [
    "If you want to use mathematical functions, you'll have to use those provided by sympy: https://docs.sympy.org/latest/modules/functions/elementary.html."
   ]
  },
  {
   "cell_type": "code",
   "execution_count": null,
   "metadata": {},
   "outputs": [],
   "source": [
    "from sympy import log\n",
    "\n",
    "@toolkit.PureFormula(\n",
    "    outputs = [(\"logarithm\", Unit(\"Calculated log\"))],\n",
    "    keywords = [\"Log\"]\n",
    ")\n",
    "def my_log(x: Unit(\"Number to take the log of\")):\n",
    "    \"\"\"Compute Gumbel distribution parameters from two points of the CDF.\"\"\"\n",
    "    return log(x)"
   ]
  },
  {
   "attachments": {},
   "cell_type": "markdown",
   "metadata": {},
   "source": [
    "Sympy is not bullet proof however, sometimes it won't be able to figure out how to reverse a formula, or it won't support a feature you need, so definitely try to test it thoroughly. This manifests in the form of nothing happening when you try to run the formula with certain inputs, leading to the program \"hanging\". You may also get an error after defining a formula, such as \"could not determine the value of a relational\", in which case your formula may not be suited to be pure. In any of those scenarios, it's recommended you stick to an impure formula, or make a note of which input sets will cause sympy to hang."
   ]
  },
  {
   "attachments": {},
   "cell_type": "markdown",
   "metadata": {},
   "source": [
    "### Impure formulas\n",
    "\n",
    "\"Impure\" formulas are declared in the same way as pure formulas, with the only difference being that you are allowed to use any Python code in the method body, including if statements, loops, etc. However, the expression cannot be inverted automatically, resulting in a worse user experience when compared to pure formulas.\n",
    "\n",
    "Below is an example of an impure formula. The formula has one input argument, namely a choice between 4 different colours. The description of the `Choice` is \"Color we gossip about\". It has one output, which has the description \"Score for the chosen colour\"."
   ]
  },
  {
   "cell_type": "code",
   "execution_count": null,
   "metadata": {},
   "outputs": [],
   "source": [
    "@toolkit.ImpureFormula(\n",
    "    outputs = [(\"score\", (Unit)(\"Score for the chosen colour\"))],\n",
    "    keywords = [\"Colours\"]\n",
    ")\n",
    "def we_like_green(colour: Choice([ChoiceEntry(\"green\"), ChoiceEntry(\"red\"), ChoiceEntry(\"yellow\"), ChoiceEntry(\"pink\")], \"Colour we gossip about\")):\n",
    "    \"\"\" We really like green, who knows why. \"\"\"\n",
    "    scores = {\"green\": 10000, \"red\": 5, \"yellow\": 2}\n",
    "    \n",
    "    if len(scores) < 2:\n",
    "        return -3\n",
    "\n",
    "    if colour not in scores: return -1\n",
    "    return scores[colour]"
   ]
  },
  {
   "attachments": {},
   "cell_type": "markdown",
   "metadata": {},
   "source": [
    "## Step 5: Writing documentation\n",
    "\n",
    "Formulas must have documentation provided. It uses a specific markdown format, that should start with the following sequence:\n",
    "\n",
    "```markdown\n",
    "# Documentation: we_like_green\n",
    "```\n",
    "\n",
    "`we_like_green` should be replaced by the name of your function.\n",
    "\n",
    "Then, you can follow it up with an arbitrary number of key-value pairs. They are currently unused, but there may be a use-case for them in the future.\n",
    "\n",
    "```markdown\n",
    "**Key1**: value1\n",
    "\n",
    "**Key2**: value2\n",
    "```\n",
    "\n",
    "After that, write documentation as you would normal markdown document. LaTeX **is supported**."
   ]
  },
  {
   "attachments": {},
   "cell_type": "markdown",
   "metadata": {},
   "source": [
    "## Step 6: Writing tests (recommended)\n",
    "\n",
    "Tests for a function are a collection of functions within a test class. The class itself should be decorated with the `test.set_function` decorator, with the name of the function under test provided as the argument. Furthermore, the test class should extend the `toolkit.test.ToolkitTests` class.\n",
    "\n",
    "Each individual test is a function in the test class, which takes only one argument, `self`. It should be decorated with `@toolkit.test.test`.\n",
    "\n",
    "Within the function, you can call `self.documented_test` and provide two arguments:\n",
    "\n",
    " - `arguments`: Input arguments for the formula, expressed as a dictionary\n",
    " - `expected`: A dictionary of expected output values.\n",
    "\n",
    "self.documented_test allows the test cases to be automatically validated & extracted and then uploaded to the website (next to the formula documentation) when you upload your notebook. Toolkit tests work with [unittest](https://docs.python.org/3/library/unittest.html) behind the scenes. That means you can use methods from unittest, but those tests won't be documented on the website."
   ]
  },
  {
   "cell_type": "code",
   "execution_count": null,
   "metadata": {},
   "outputs": [],
   "source": [
    "@toolkit.test.set_function(\n",
    "    area_of_sphere\n",
    ")\n",
    "class AreaOfSphereTests(toolkit.test.ToolkitTests):\n",
    "    @toolkit.test.test\n",
    "    def radius1(self):\n",
    "        self.documented_test(                   # This test case will be documented and appears on the website!\n",
    "            arguments = {\"radius\": 1}, \n",
    "            expected = {\"area\": 4 * math.pi}\n",
    "        )\n",
    "    \n",
    "    @toolkit.test.test\n",
    "    def radius2(self):\n",
    "        calculated_radius = self.function(area = 4)[0][\"radius\"] # Outputs follow the form: [{\"radius\": ...}, {\"radius\": ...}, ...]\n",
    "        self.assertTrue(calculated_radius < 2) # This won't be documented, but will run"
   ]
  },
  {
   "attachments": {},
   "cell_type": "markdown",
   "metadata": {},
   "source": [
    "In documented tests, numbers will be checked to be within either 5% or 0.00001 of each other (whichever is greatest). This means the numbers don't have to match up exactly, but that's a result of how computers handle decimals."
   ]
  },
  {
   "attachments": {},
   "cell_type": "markdown",
   "metadata": {},
   "source": [
    "### Running tests locally\n",
    "\n",
    "You can run tests locally by calling `function_name.run_tests()`:"
   ]
  },
  {
   "cell_type": "code",
   "execution_count": null,
   "metadata": {},
   "outputs": [],
   "source": [
    "area_of_sphere.run_tests()"
   ]
  },
  {
   "attachments": {},
   "cell_type": "markdown",
   "metadata": {},
   "source": [
    "Please note that although you can have multiple formulas per notebook, it is highly recommended to only include one. That just makes it easier for maintainers and other contributors to keep track of where formulas are coming from!\n",
    "\n",
    "For now that's all you need to worry about! Before you know it, your notebooks too can be on the website :)"
   ]
  }
 ],
 "metadata": {
  "kernelspec": {
   "display_name": "Python 3.10.6 ('env': venv)",
   "language": "python",
   "name": "python3"
  },
  "language_info": {
   "codemirror_mode": {
    "name": "ipython",
    "version": 3
   },
   "file_extension": ".py",
   "mimetype": "text/x-python",
   "name": "python",
   "nbconvert_exporter": "python",
   "pygments_lexer": "ipython3",
   "version": "3.9.13"
  },
  "orig_nbformat": 4,
  "vscode": {
   "interpreter": {
    "hash": "d516b3445603030f87853f63ca2c43d83dd3c621bca58921cd0a6206317ce511"
   }
  }
 },
 "nbformat": 4,
 "nbformat_minor": 2
}
