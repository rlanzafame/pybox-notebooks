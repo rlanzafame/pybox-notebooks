{
 "cells": [
  {
   "attachments": {},
   "cell_type": "markdown",
   "metadata": {},
   "source": [
    "# Welcome to the (bare bones) template/tutorial notebook!\n",
    "\n",
    "This is a very simplified version of the full notebook, in case you want to make something very fast without understanding what you are doing."
   ]
  },
  {
   "attachments": {},
   "cell_type": "markdown",
   "metadata": {},
   "source": [
    "## Step 1: Installing libraries\n",
    "\n",
    "Run this in a cell if you have not already installed the toolkit:\n",
    "\n",
    "```\n",
    "%pip install pybox-toolkit\n",
    "```\n"
   ]
  },
  {
   "cell_type": "code",
   "execution_count": null,
   "metadata": {},
   "outputs": [],
   "source": [
    "%pip install pybox-toolkit"
   ]
  },
  {
   "attachments": {},
   "cell_type": "markdown",
   "metadata": {},
   "source": [
    "## Step 2: Importing libraries\n",
    "\n",
    "In this 'bare bones' template you only need the toolkit. Import any other packages you need for your function."
   ]
  },
  {
   "cell_type": "code",
   "execution_count": null,
   "metadata": {},
   "outputs": [],
   "source": [
    "# Required import for any formula\n",
    "import toolkit\n",
    "# Importing the Python math library (https://docs.python.org/3/library/math.html)\n",
    "# We will use the library to obtain constants, such as `math.pi` and `math.e`\n",
    "# import math\n",
    "# Inside of pure formulas, we need to use the math functions provided by sympy\n",
    "# This is explained later on\n",
    "# from sympy import sin "
   ]
  },
  {
   "attachments": {},
   "cell_type": "markdown",
   "metadata": {},
   "source": [
    "### Creating new units\n",
    "\n",
    "If you don't want to bother with this part, just use MyUnit for everything, but know that on the website everything will be labeled wit `x` and have a range of possible values that includes all real numbers. You can copy/paste the examples below and set the names, ranges and unit label for each input/output you want in your example function."
   ]
  },
  {
   "cell_type": "code",
   "execution_count": null,
   "metadata": {},
   "outputs": [],
   "source": [
    "from toolkit.typing import Unit\n",
    "\n",
    "class MyUnit01(Unit):\n",
    "    \"\"\" Arbitrary unit. Create as many as you need based on required range.\"\"\"\n",
    "    units = \"x\"\n",
    "    physical_range = \"(-inf, 59]\"\n",
    "\n",
    "class MyUnit(Unit):\n",
    "    \"\"\" Arbitrary unit without range.\"\"\"\n",
    "    units = \"x\"\n",
    "    physical_range = \"(-inf, inf)\"\n",
    "\n",
    "    "
   ]
  },
  {
   "attachments": {},
   "cell_type": "markdown",
   "metadata": {},
   "source": [
    "### Impure formulas\n",
    "\n",
    "This is the bare bones of creating a function, you have to specify the output and it's unit, the input and the function itself. With an Impure function you should be able to use a lot of standard Python packages like scipy. Don't forget to change the function name."
   ]
  },
  {
   "cell_type": "code",
   "execution_count": null,
   "metadata": {},
   "outputs": [],
   "source": [
    "@toolkit.ImpureFormula(\n",
    "    outputs = [(\"y\", (MyUnit)(\"Square of the input\"))],\n",
    "    keywords = [\"example\"]\n",
    ")\n",
    "def example_function(x: MyUnit(\"A number, x\")):\n",
    "    \"\"\"Square me.\"\"\"\n",
    "    y = x**2\n",
    "    return y"
   ]
  },
  {
   "attachments": {},
   "cell_type": "markdown",
   "metadata": {},
   "source": [
    "Write documentation. This is the minimum:"
   ]
  },
  {
   "attachments": {},
   "cell_type": "markdown",
   "metadata": {},
   "source": [
    "# Documentation: example_function\n",
    "\n",
    "My documentation is very short.\n"
   ]
  },
  {
   "attachments": {},
   "cell_type": "markdown",
   "metadata": {},
   "source": [
    "Write a test"
   ]
  },
  {
   "cell_type": "code",
   "execution_count": null,
   "metadata": {},
   "outputs": [],
   "source": [
    "@toolkit.test.set_function(\n",
    "    example_function\n",
    ")\n",
    "class ExampleFunctionTests(toolkit.test.ToolkitTests):\n",
    "    @toolkit.test.test\n",
    "    def test1(self):\n",
    "        self.documented_test(                   # This test case will be documented and appears on the website!\n",
    "            arguments = {\"x\": 2}, \n",
    "            expected = {\"y\": 2**2}\n",
    "        )"
   ]
  },
  {
   "attachments": {},
   "cell_type": "markdown",
   "metadata": {},
   "source": [
    "check your test:"
   ]
  },
  {
   "cell_type": "code",
   "execution_count": null,
   "metadata": {},
   "outputs": [],
   "source": [
    "example_function.run_tests()"
   ]
  },
  {
   "attachments": {},
   "cell_type": "markdown",
   "metadata": {},
   "source": [
    "Please note that although you can have multiple formulas per notebook, it is highly recommended to only include one. That just makes it easier for maintainers and other contributors to keep track of where formulas are coming from!\n",
    "\n",
    "For now that's all you need to worry about! Before you know it, your notebooks too can be on the website :)"
   ]
  }
 ],
 "metadata": {
  "kernelspec": {
   "display_name": "Python 3.10.6 ('env': venv)",
   "language": "python",
   "name": "python3"
  },
  "language_info": {
   "codemirror_mode": {
    "name": "ipython",
    "version": 3
   },
   "file_extension": ".py",
   "mimetype": "text/x-python",
   "name": "python",
   "nbconvert_exporter": "python",
   "pygments_lexer": "ipython3",
   "version": "3.9.13"
  },
  "orig_nbformat": 4,
  "vscode": {
   "interpreter": {
    "hash": "d516b3445603030f87853f63ca2c43d83dd3c621bca58921cd0a6206317ce511"
   }
  }
 },
 "nbformat": 4,
 "nbformat_minor": 2
}
