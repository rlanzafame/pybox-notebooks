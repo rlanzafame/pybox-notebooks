{
 "cells": [
  {
   "attachments": {},
   "cell_type": "markdown",
   "metadata": {},
   "source": [
    "## Step 1: Installing libraries\n",
    "\n",
    "You only need to install required libraries when you're running the notebooks locally (e.g. on your own computer).\n",
    "\n",
    "The only _required_ library is the toolkit library, which you'll use to write your formula. You can install it by running the following command in your terminal:\n",
    "\n",
    "```bash\n",
    "pip install pybox-toolkit\n",
    "```\n",
    "\n",
    "You can also install the library from within the Jupyter notebook, by adding the following line into a code cell:\n",
    "\n",
    "```\n",
    "%pip install pybox-toolkit\n",
    "```\n",
    "\n",
    "Please only install the libraries on the list below, as they are guaranteed to be present within the website environment as well. Any other python packages, apart from the standard library, may not be available when running in the website.\n",
    "\n",
    "### List of available libraries\n",
    "\n",
    " - [`sympy`](https://www.sympy.org/en/index.html)"
   ]
  },
  {
   "attachments": {},
   "cell_type": "markdown",
   "metadata": {},
   "source": [
    "## Step 2: Importing libraries\n",
    "\n",
    "Import required libraries. At the minimum, you need to import the `toolkit` library, but you can also rely on `sympy` or the python standard library.\n",
    "\n",
    "The `toolkit` library acts as the interface between your Jupyter notebook and the website. In addition, it also provides you with some convenient features, such as physical bounds checking, SI units, unit composition, etc, but these features will be discussed later as we encounter them."
   ]
  },
  {
   "cell_type": "code",
   "execution_count": 78,
   "metadata": {},
   "outputs": [],
   "source": [
    "# Required import for any formula\n",
    "import toolkit\n",
    "# Importing the Python math library (https://docs.python.org/3/library/math.html)\n",
    "# We will use the library to obtain constants, such as `math.pi` and `math.e`\n",
    "import math\n",
    "# Inside of pure formulas, we need to use the math functions provided by sympy\n",
    "# This is explained later on\n",
    "from sympy import sin, log "
   ]
  },
  {
   "attachments": {},
   "cell_type": "markdown",
   "metadata": {},
   "source": [
    "## Step 3: Using units\n",
    "\n",
    "As the library is designed with engineering formulas in mind, it has support for units. You have three different options:\n",
    "\n",
    " - stick to the SI units provided by the toolkit library\n",
    " - create your own units\n",
    " - create new units by composition of existing units"
   ]
  },
  {
   "attachments": {},
   "cell_type": "markdown",
   "metadata": {},
   "source": [
    "### Using provided SI units \n",
    "\n",
    "Available units in the library are:\n",
    "\n",
    " - Meter\n",
    " - Second\n",
    " - Kilogram\n",
    " - Ampere\n",
    " - Kelvin\n",
    " - Mole\n",
    " - Candela\n",
    "\n",
    "You can import them from the toolkit library using a simple import statement"
   ]
  },
  {
   "cell_type": "code",
   "execution_count": 79,
   "metadata": {},
   "outputs": [],
   "source": [
    "# Replace \"Meter\" or \"Kilogram\" with your SI unit of choice\n",
    "from toolkit.typing.si import Meter, Kilogram"
   ]
  },
  {
   "attachments": {},
   "cell_type": "markdown",
   "metadata": {},
   "source": [
    "### Creating new units\n",
    "\n",
    "If you can't find the unit you need in the list of available SI units, you can create your own unit types.\n",
    "\n",
    "A unit at its core is a Python class with two fields:\n",
    "\n",
    " - `units`: The unit symbol (e.g. \"m\" for meters)\n",
    " - `physical_range` (optional): Physical range in mathematical notation, e.g. `(-inf, 59]`. Default value if not provided is `(-inf, inf)`.\n",
    "\n",
    "Your unit must extend from the `Unit` base class, meaning that a new unit definition with name \"Example\" and symbol \"x\" can be implemented as follows:"
   ]
  },
  {
   "cell_type": "code",
   "execution_count": 80,
   "metadata": {},
   "outputs": [],
   "source": [
    "from toolkit.typing import Unit\n",
    "\n",
    "class Probability(Unit):\n",
    "    \"\"\"Probability\"\"\"\n",
    "    units = \"[-]\"\n",
    "    physical_range = \"[0, 1]\"\n",
    "\n",
    "class RandomVariable(Unit):\n",
    "    \"\"\"Random variable with unknown units\"\"\"\n",
    "    units = \"[-]\"\n",
    "    physical_range = \"(-inf, inf)\"\n",
    "\n",
    "class ParameterMu(Unit):\n",
    "    \"\"\"Distribution parameter mu with unknown units\"\"\"\n",
    "    units = \"[-]\"\n",
    "    physical_range = \"(-inf, inf)\"\n",
    "\n",
    "class ParameterBeta(Unit):\n",
    "    \"\"\"Distribution parameter beta with unknown units\"\"\"\n",
    "    units = \"[-]\"\n",
    "    physical_range = \"[0, inf)\""
   ]
  },
  {
   "cell_type": "code",
   "execution_count": 81,
   "metadata": {},
   "outputs": [],
   "source": [
    "class Example(Unit):\n",
    "    \"\"\" Example unit \"\"\"\n",
    "    units = \"x\"\n",
    "    physical_range = \"(-inf, 59]\""
   ]
  },
  {
   "attachments": {},
   "cell_type": "markdown",
   "metadata": {},
   "source": [
    "## Step 4: Defining a formula\n",
    "\n",
    "A formula is a Python function, annotated with the appropriate \"function decorator\". The decorator tells the toolkit information about the formula, such as the units of the formula output, keywords/categories of the formula (used for catgorization on the website), etc.\n",
    "\n",
    "There exist two different annotations, `PureFormula` and `ImpureFormula`. They differ in additional functionality they provide and constraints, but we will discuss them later.\n",
    "\n",
    "Both decorators require you to specify two fields:\n",
    "\n",
    " - `outputs`: a list of 2 element [tuples](https://www.programiz.com/python-programming/tuple) (_not a list of lists!_), where each tuple contains the name of an output variable and the (instantiated) unit of the variable (see the section about unit instantiation for more details).\n",
    " - `keywords`: a list of string labels that categorize a specific formula. The keywords are used on the website to display formulas in their corresponding categories. Note that a single formula can have more than one keyword, and the keywords are case-insensitive.\n",
    "\n",
    "The function itself can accept any number of arguments, as long as they are type-annotated (specify the unit type for the specific argument). Check out the full formula examples to see how this should look in practice.\n",
    "\n",
    "A function can return multiple values by returning a tuple instead of a single value - works for both pure and impure formulas.\n",
    "\n",
    "Finally, the function should contain a short \"docstring\". This is a string that comes immediately after the function signature (`def` statement), and starts & ends with three quote symbols. It should contain a short description of the formula.\n",
    "\n",
    "That's a lot to take in at once, so here is a simple example!\n",
    "\n",
    "\n"
   ]
  },
  {
   "cell_type": "code",
   "execution_count": 82,
   "metadata": {},
   "outputs": [],
   "source": [
    "@toolkit.PureFormula(\n",
    "    outputs = [(\"example_output\", (Example**2)(\"This is covered later ;)\"))],\n",
    "    keywords = [\"label 1\", \"label 2\", \"3 labels, are you crazy!?\"]\n",
    ")\n",
    "def example_formula(example_input: Example(\"I Wonder why this is here\")):\n",
    "    \"\"\" This is the docstring \"\"\"\n",
    "    i = example_input / 2\n",
    "    i += 5\n",
    "    return i"
   ]
  },
  {
   "attachments": {},
   "cell_type": "markdown",
   "metadata": {},
   "source": [
    "### Unit instantiation\n",
    "\n",
    "Both the output unit types and the function argument annotations require you to \"instantiate\" the unit. While it sounds scary, it simply means that you need to provide a short description for the argument which uses that particular unit.\n",
    "\n",
    "Example unit instantiations:"
   ]
  },
  {
   "cell_type": "code",
   "execution_count": 83,
   "metadata": {},
   "outputs": [],
   "source": [
    "ProbabilityInstance = Probability(\"Probability from the Gumbel CDF, F(x).\")\n",
    "RandomVariableInstance = RandomVariable(\"Random variable with the Gumbel distribution, f(x) and F(x).\")\n",
    "ParameterMuInstance = ParameterMu(\"Distribution parameter mu with unknown units\")\n",
    "ParameterBetaInstance = ParameterBeta(\"Distribution parameter beta with unknown units\")"
   ]
  },
  {
   "attachments": {},
   "cell_type": "markdown",
   "metadata": {},
   "source": [
    "### Pure formulas\n",
    "\n",
    "\"Pure\" formulas are formulas which can be expressed as a single mathematical expression. They operate under stricter conditions than impure formulas, as they don't allow you to perform any form of flow control (no loops, `if` statements, etc.).\n",
    "\n",
    "The expression within the function should return a [sympy](https://docs.sympy.org/latest/reference/index.html#reference) expression composed of input arguments (which act as sympy variables), constants, and sympy functions (e.g. `sympy.sin` or `sympy.sqrt`).\n",
    "\n",
    "While the constraints on the pure formulas may seem arbitrary and discouraging, they provide the website users with one major benefit: pure formulas can be \"inverted\", meaning that if inputs `a` and `b` result in output `c`, the expression can be **automatically** changed to express `b` from `a` and `c`.\n",
    "\n",
    "In the example below, we create a pure formula which can be used to calculate the area of the sphere. The formula has one output, the computed area, which is expressed in meters squared. The description of the output is \"Area of sphere\".\n",
    "\n",
    "The formula also has one input, namely the radius. It is expressed in meters, and the description of the parameter is \"Radius of sphere\".\n",
    "\n",
    "The formula also contains a docstring, which is \"Compute the area of a sphere\"."
   ]
  },
  {
   "cell_type": "code",
   "execution_count": 84,
   "metadata": {},
   "outputs": [],
   "source": [
    "@toolkit.PureFormula(\n",
    "    outputs = [(\"mu\", ParameterMu(\"Parameter mu\")),\n",
    "               (\"beta\", ParameterBeta(\"Parameter beta\"))],\n",
    "    keywords = [\"Probability\", \"Gumbel\", \"Distribution Parameters\"]\n",
    ")\n",
    "def gumbel_2_points(p_1: Probability(\"Probability at Point 1\"),\n",
    "                    x_1: RandomVariable(\"Random variable at Point 1\"),\n",
    "                    p_2: Probability(\"Probability at Point 2\"),\n",
    "                    x_2: RandomVariable(\"Random variable at Point 2\")):\n",
    "    \"\"\"Compute Gumbel distribution parameters from two points of the CDF.\"\"\"\n",
    "    beta = -(x_2 - x_1) / log(log(p_2) / log(p_1))\n",
    "    mu = x_1 + beta * log(-log(p_1))\n",
    "    return mu, beta"
   ]
  },
  {
   "cell_type": "code",
   "execution_count": 85,
   "metadata": {},
   "outputs": [
    {
     "data": {
      "text/plain": [
       "[{'mu': 1.00165568577621, 'beta': 1.99958097378786}]"
      ]
     },
     "execution_count": 85,
     "metadata": {},
     "output_type": "execute_result"
    }
   ],
   "source": [
    "gumbel_2_points(.192, 0, .545, 2) # Roughly for mu = 1, beta = 2 (graphed using demos)"
   ]
  },
  {
   "attachments": {},
   "cell_type": "markdown",
   "metadata": {},
   "source": [
    "### Impure formulas\n",
    "\n",
    "\"Impure\" formulas are declared in the same way as pure formulas, with the only difference being that you are allowed to use any Python code in the method body, including if statements, loops, etc. However, the expression cannot be inverted automatically, resulting in a worse user experience when compared to pure formulas.\n",
    "\n",
    "Below is an example of an impure formula. The formula has one input argument, namely a choice between 4 different colours. The description of the `Choice` is \"Color we gossip about\". It has one output, which has the description \"Score for the chosen colour\"."
   ]
  },
  {
   "cell_type": "code",
   "execution_count": 86,
   "metadata": {},
   "outputs": [
    {
     "ename": "NameError",
     "evalue": "name 'Choice' is not defined",
     "output_type": "error",
     "traceback": [
      "\u001b[0;31m---------------------------------------------------------------------------\u001b[0m",
      "\u001b[0;31mNameError\u001b[0m                                 Traceback (most recent call last)",
      "Cell \u001b[0;32mIn[86], line 5\u001b[0m\n\u001b[1;32m      1\u001b[0m \u001b[38;5;129m@toolkit\u001b[39m\u001b[38;5;241m.\u001b[39mImpureFormula(\n\u001b[1;32m      2\u001b[0m     outputs \u001b[38;5;241m=\u001b[39m [(\u001b[38;5;124m\"\u001b[39m\u001b[38;5;124mscore\u001b[39m\u001b[38;5;124m\"\u001b[39m, (Unit)(\u001b[38;5;124m\"\u001b[39m\u001b[38;5;124mScore for the chosen colour\u001b[39m\u001b[38;5;124m\"\u001b[39m))],\n\u001b[1;32m      3\u001b[0m     keywords \u001b[38;5;241m=\u001b[39m [\u001b[38;5;124m\"\u001b[39m\u001b[38;5;124mColours\u001b[39m\u001b[38;5;124m\"\u001b[39m]\n\u001b[1;32m      4\u001b[0m )\n\u001b[0;32m----> 5\u001b[0m \u001b[38;5;28;01mdef\u001b[39;00m \u001b[38;5;21mwe_like_green\u001b[39m(colour: \u001b[43mChoice\u001b[49m([ChoiceEntry(\u001b[38;5;124m\"\u001b[39m\u001b[38;5;124mgreen\u001b[39m\u001b[38;5;124m\"\u001b[39m), ChoiceEntry(\u001b[38;5;124m\"\u001b[39m\u001b[38;5;124mred\u001b[39m\u001b[38;5;124m\"\u001b[39m), ChoiceEntry(\u001b[38;5;124m\"\u001b[39m\u001b[38;5;124myellow\u001b[39m\u001b[38;5;124m\"\u001b[39m), ChoiceEntry(\u001b[38;5;124m\"\u001b[39m\u001b[38;5;124mpink\u001b[39m\u001b[38;5;124m\"\u001b[39m)], \u001b[38;5;124m\"\u001b[39m\u001b[38;5;124mColour we gossip about\u001b[39m\u001b[38;5;124m\"\u001b[39m)):\n\u001b[1;32m      6\u001b[0m \u001b[38;5;250m    \u001b[39m\u001b[38;5;124;03m\"\"\" We really like green, who knows why. \"\"\"\u001b[39;00m\n\u001b[1;32m      7\u001b[0m     scores \u001b[38;5;241m=\u001b[39m {\u001b[38;5;124m\"\u001b[39m\u001b[38;5;124mgreen\u001b[39m\u001b[38;5;124m\"\u001b[39m: \u001b[38;5;241m10000\u001b[39m, \u001b[38;5;124m\"\u001b[39m\u001b[38;5;124mred\u001b[39m\u001b[38;5;124m\"\u001b[39m: \u001b[38;5;241m5\u001b[39m, \u001b[38;5;124m\"\u001b[39m\u001b[38;5;124myellow\u001b[39m\u001b[38;5;124m\"\u001b[39m: \u001b[38;5;241m2\u001b[39m}\n",
      "\u001b[0;31mNameError\u001b[0m: name 'Choice' is not defined"
     ]
    }
   ],
   "source": [
    "@toolkit.ImpureFormula(\n",
    "    outputs = [(\"score\", (Unit)(\"Score for the chosen colour\"))],\n",
    "    keywords = [\"Colours\"]\n",
    ")\n",
    "def we_like_green(colour: Choice([ChoiceEntry(\"green\"), ChoiceEntry(\"red\"), ChoiceEntry(\"yellow\"), ChoiceEntry(\"pink\")], \"Colour we gossip about\")):\n",
    "    \"\"\" We really like green, who knows why. \"\"\"\n",
    "    scores = {\"green\": 10000, \"red\": 5, \"yellow\": 2}\n",
    "    \n",
    "    if len(scores) < 2:\n",
    "        return -3\n",
    "\n",
    "    if colour not in scores: return -1\n",
    "    return scores[colour]"
   ]
  },
  {
   "attachments": {},
   "cell_type": "markdown",
   "metadata": {},
   "source": [
    "## Step 5: Writing documentation\n",
    "\n",
    "Formulas must have documentation provided. It uses a specific markdown format, that should start with the following sequence:\n",
    "\n",
    "```markdown\n",
    "# Documentation: <function_name>\n",
    "```\n",
    "\n",
    "`function_name` is the exact name of the function you want to document. An example for the function above would be:\n",
    "\n",
    "```markdown\n",
    "# Documentation: we_like_green\n",
    "```\n",
    "\n",
    "Then, you can follow it up with an arbitrary number of key-value pairs. They are currently unused, but there may be a use-case for them in the future.\n",
    "\n",
    "```markdown\n",
    "**Key1**: value1\n",
    "\n",
    "**Key2**: value2\n",
    "```\n",
    "\n",
    "After that, write documentation as you would normal markdown document. LaTeX **is supported**."
   ]
  },
  {
   "attachments": {},
   "cell_type": "markdown",
   "metadata": {},
   "source": [
    "## Step 6: Writing tests (recommended)\n",
    "\n",
    "Tests for a function are a collection of functions within a test class. The class itself should be decorated with the `test.set_function` decorator, with the name of the function under test provided as the argument. Furthermore, the test class should extend the `toolkit.test.ToolkitTests` class.\n",
    "\n",
    "Each individual test is a function in the test class, which takes only one argument, `self`. It should be decorated with `@toolkit.test.test`.\n",
    "\n",
    "Within the function, you can call `self.documented_test` and provide two arguments:\n",
    "\n",
    " - `arguments`: Input arguments for the formula, expressed as a dictionary\n",
    " - `expected`: A dictionary of expected output values.\n",
    "\n",
    "When you submit the notebook to the repository, the test cases will be automatically validated & extracted and then uploaded to the website, next to the formula documentation. Toolkit tests work with [unittest](https://docs.python.org/3/library/unittest.html) behind the scenes. That means you can use methods from unittest, but those tests won't be documented on the website."
   ]
  },
  {
   "cell_type": "code",
   "execution_count": null,
   "metadata": {},
   "outputs": [],
   "source": [
    "@toolkit.test.set_function(\n",
    "    area_of_sphere\n",
    ")\n",
    "class AreaOfSphereTests(toolkit.test.ToolkitTests):\n",
    "    @toolkit.test.test\n",
    "    def radius1(self):\n",
    "        self.documented_test(\n",
    "            arguments = {\"radius\": 1}, \n",
    "            expected = {\"area\": 4 * math.pi}\n",
    "        )\n",
    "    \n",
    "    @toolkit.test.test\n",
    "    def radius2(self):\n",
    "        calculated_radius = self.function(area = 4)[0][\"radius\"] # Outputs follow the form: [{\"radius\": ...}, {\"radius\": ...}, ...]\n",
    "        self.assertTrue(calculated_radius < 2) # This won't be documented, but will run"
   ]
  },
  {
   "attachments": {},
   "cell_type": "markdown",
   "metadata": {},
   "source": [
    "### Running tests locally\n",
    "\n",
    "You can run tests locally by calling `<function_name>.run_tests()`:"
   ]
  },
  {
   "cell_type": "code",
   "execution_count": null,
   "metadata": {},
   "outputs": [],
   "source": [
    "area_of_sphere.run_tests()"
   ]
  },
  {
   "attachments": {},
   "cell_type": "markdown",
   "metadata": {},
   "source": [
    "For now that's all you need to worry about! Before you know it, your notebooks too can be on the website :)"
   ]
  }
 ],
 "metadata": {
  "kernelspec": {
   "display_name": "Python 3.10.6 ('env': venv)",
   "language": "python",
   "name": "python3"
  },
  "language_info": {
   "codemirror_mode": {
    "name": "ipython",
    "version": 3
   },
   "file_extension": ".py",
   "mimetype": "text/x-python",
   "name": "python",
   "nbconvert_exporter": "python",
   "pygments_lexer": "ipython3",
   "version": "3.10.6"
  },
  "orig_nbformat": 4,
  "vscode": {
   "interpreter": {
    "hash": "d516b3445603030f87853f63ca2c43d83dd3c621bca58921cd0a6206317ce511"
   }
  }
 },
 "nbformat": 4,
 "nbformat_minor": 2
}
